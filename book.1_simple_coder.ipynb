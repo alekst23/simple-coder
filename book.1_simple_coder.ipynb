{
 "cells": [
  {
   "attachments": {},
   "cell_type": "markdown",
   "id": "572da96d",
   "metadata": {},
   "source": [
    "## How to use Simple Coder\n",
    "\n",
    "### Basic Implementation\n",
    "Let's start with a very simple implementation to demonstrate how you can generate an output file with some simple instructions.\n",
    "\n",
    "We will create an ```agenda``` object to organize and store our instructions, then use that to run our ```SimpleCoder``` agent.\n",
    "\n",
    "Each ```SimpleCoder``` instance takes one instruction item to run, and outputs one file. We will handle complex agendas, messaging, etc somewhere else. This will allow us to simplify our code and focus on refining the core functionality, which features recursive calling that will be much easier to understand and troubleshoot without the additional overhead."
   ]
  },
  {
   "cell_type": "markdown",
   "id": "6a4a3452",
   "metadata": {},
   "source": [
    "## Create Virtual Environment\n",
    "\n",
    "```bash\n",
    "python -m venv venv\n",
    "source venv/bin/activate\n",
    "```\n",
    "\n",
    "## Install Dependencies\n",
    "\n",
    "```bash\n",
    "make install\n",
    "```"
   ]
  },
  {
   "cell_type": "markdown",
   "id": "c040041c",
   "metadata": {},
   "source": [
    "## Import"
   ]
  },
  {
   "cell_type": "code",
   "execution_count": 1,
   "id": "c6ad5c47",
   "metadata": {},
   "outputs": [],
   "source": [
    "from simplecoder import SimpleCoder\n",
    "\n",
    "# Directory where code will be saved and read from\n",
    "C_WORKING_DIR = \"temp/\""
   ]
  },
  {
   "cell_type": "code",
   "execution_count": 2,
   "id": "a6d083d7",
   "metadata": {},
   "outputs": [
    {
     "name": "stdout",
     "output_type": "stream",
     "text": [
      "Epoch: 0\n",
      "Epoch: 1\n"
     ]
    },
    {
     "data": {
      "text/plain": [
       "'weather.sh'"
      ]
     },
     "execution_count": 2,
     "metadata": {},
     "output_type": "execute_result"
    }
   ],
   "source": [
    "# We organize our instructions in a dict. \n",
    "# Later, we can easily load this from a JSON file or a database.\n",
    "agenda = {\n",
    "    \"requirements\": \"I need a script that gets and prints the current weather in New York without requiring an API key.\",\n",
    "    \"output_file_name\": \"weather.sh\",\n",
    "    \"working_dir\": C_WORKING_DIR\n",
    "}\n",
    "\n",
    "# Create a coder agent using the agenda\n",
    "coder = SimpleCoder(**agenda)\n",
    "\n",
    "# Run the agent\n",
    "await coder.run()"
   ]
  },
  {
   "attachments": {},
   "cell_type": "markdown",
   "id": "96eea39a",
   "metadata": {},
   "source": [
    "The basic properties to our agenda are:\n",
    "- ```requirements``` - State what you need or what you want the agent to create\n",
    "- ```output_file_name``` - This is where we will write the code output. If the file already exists, the contents will be loaded as our initial source code for refactoring. Otherwise it will be created.\n",
    "- ```working_dir``` - This is the base path for our input and output files\n",
    "\n",
    "The agent will iterate at least 2 times, or until the LLM thinks it is complete and issues a stop code. This allows the LLM to analyze it's own output and make changes, increasing the quality of our output.\n",
    "\n",
    "#### check the output."
   ]
  },
  {
   "cell_type": "code",
   "execution_count": null,
   "id": "25944395",
   "metadata": {},
   "outputs": [],
   "source": [
    "!cat {agenda[\"working_dir\"] + agenda[\"output_file_name\"]}"
   ]
  },
  {
   "attachments": {},
   "cell_type": "markdown",
   "id": "e6ed262e",
   "metadata": {},
   "source": [
    "#### run the file"
   ]
  },
  {
   "cell_type": "code",
   "execution_count": 14,
   "id": "0acf5831",
   "metadata": {},
   "outputs": [
    {
     "name": "stdout",
     "output_type": "stream",
     "text": [
      "Current weather in New York:\n",
      "Temperature: +71°F\n",
      "Condition: Overcast \n"
     ]
    }
   ],
   "source": [
    "!. {agenda[\"working_dir\"] + agenda[\"output_file_name\"]}"
   ]
  },
  {
   "attachments": {},
   "cell_type": "markdown",
   "id": "b2910ab1",
   "metadata": {},
   "source": [
    "## Using references \n",
    "We have illustrated how we can create a new file or refactor an existing one. \n",
    "\n",
    "However, projects often require multiple files, some of which are interdependant. It is very cumbersome to add all this source code to a chat bot, with your refactoring instructions.\n",
    "\n",
    "With SimpleCoder, we can do this by adding a new key to our agenda:\n",
    "\n",
    "```\"input_file_name_list\": [\"project_readme.md\", \"project_file.py\"]```\n",
    "\n",
    "This allows us to specify a list of file names to be read in as references for our agent.\n",
    "\n",
    "Let's see how this works. We construct the following problem to illustrate the implementation of a class declared in another file."
   ]
  },
  {
   "cell_type": "code",
   "execution_count": null,
   "id": "36a9429e",
   "metadata": {},
   "outputs": [],
   "source": [
    "# Create an agenda list\n",
    "# Note that the second element takes the output of the first element as input via \"input_file_name_list\"\n",
    "agenda = [\n",
    "    {\n",
    "        \"requirements\": \"I need a python class, WebLoader that downloads a URL, extracts text, and saves it to a file\",\n",
    "        \"output_file_name\": \"web_loader.py\",\n",
    "        \"working_dir\": C_WORKING_DIR,\n",
    "        \"force_code\": True\n",
    "    },\n",
    "    {\n",
    "        \"requirements\": \"I need a python class WebScraper that uses WebLoader to scrape google for news mentioning AI\",\n",
    "        \"output_file_name\": \"web_scraper.py\",\n",
    "        # This is a list of files that will be loaded as input for the agent. The agent is instructed to use these for reference.\n",
    "        \"input_file_list\": [\"web_loader.py\"],\n",
    "        \"working_dir\": C_WORKING_DIR,\n",
    "        \"force_code\": True\n",
    "    }\n",
    "]\n",
    "\n",
    "# Iterate over our agenda and run an agent for each item\n",
    "for i, item in enumerate(agenda):\n",
    "    print(f\"Agenda item #{i}: {item['output_file_name']} - starting\")\n",
    "\n",
    "    # Create and run the agent\n",
    "    coder = SimpleCoder(**item)\n",
    "    print( await coder.run() )\n",
    "    \n",
    "    print(f\"Agenda item {i} - finished\\n\\n\")"
   ]
  },
  {
   "attachments": {},
   "cell_type": "markdown",
   "id": "953e83db",
   "metadata": {},
   "source": [
    "If you try the given example and check the output files, you should see that the ```WebScraper``` class will include an import and implementation of the ```WebLoader``` class."
   ]
  },
  {
   "cell_type": "code",
   "execution_count": null,
   "id": "6f358826",
   "metadata": {},
   "outputs": [],
   "source": [
    "!cat {C_WORKING_DIR + agenda[0][\"output_file_name\"]}\n",
    "!cat {C_WORKING_DIR + agenda[1][\"output_file_name\"]}"
   ]
  },
  {
   "attachments": {},
   "cell_type": "markdown",
   "id": "27ad90b3",
   "metadata": {},
   "source": [
    "## Run the output code, and marvel!"
   ]
  },
  {
   "cell_type": "code",
   "execution_count": null,
   "id": "daa69f6f",
   "metadata": {},
   "outputs": [],
   "source": [
    "!python3 {C_WORKING_DIR + agenda[-1][\"output_file_name\"]}"
   ]
  },
  {
   "attachments": {},
   "cell_type": "markdown",
   "id": "1b74cfdf",
   "metadata": {},
   "source": [
    "Observe the marvelous runtime and/or dependency errors!\n",
    "\n",
    "This is actually a challanging problem for the LLM because it does not know the format of the data it will be scraping. It can adopt several solutions for this, some of which employ BeautifulSoup or regex patterns. Some of these solutions are even functional!\n",
    "\n",
    "### The goal of this excercise, however, is to demonstrate several things:\n",
    "1. The agent can create several interdependant files\n",
    "2. The agent uses proper class names and function singatures across all files\n",
    "3. Web scraping is not easy, man"
   ]
  },
  {
   "attachments": {},
   "cell_type": "markdown",
   "id": "e06db849",
   "metadata": {},
   "source": [
    "## Limitations \n",
    "\n",
    "- Produced code may require dependencies.\n",
    "\n",
    "- Produced code may contain placeholder functions for mechanisms that are too complex, requiring several more iterations to complete the full output.\n",
    "\n",
    "- Because the agent simply examines the code and does not actually run it to debug, it can generate some syntactical or logical errors.\n",
    "\n",
    "- The agent may iterrate endlessly, thinking that the requirements are not properly implemented, and will keep making small adjustments until it reaches the max iteration limit."
   ]
  }
 ],
 "metadata": {
  "kernelspec": {
   "display_name": "Python 3 (ipykernel)",
   "language": "python",
   "name": "python3"
  },
  "language_info": {
   "codemirror_mode": {
    "name": "ipython",
    "version": 3
   },
   "file_extension": ".py",
   "mimetype": "text/x-python",
   "name": "python",
   "nbconvert_exporter": "python",
   "pygments_lexer": "ipython3",
   "version": "3.11.9"
  }
 },
 "nbformat": 4,
 "nbformat_minor": 5
}
